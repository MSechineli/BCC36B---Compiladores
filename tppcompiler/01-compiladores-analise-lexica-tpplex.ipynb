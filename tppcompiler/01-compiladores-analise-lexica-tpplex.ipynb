{
  "nbformat": 4,
  "nbformat_minor": 0,
  "metadata": {
    "colab": {
      "name": "01-compiladores-analise-lexica-tpplex.ipynb",
      "provenance": [],
      "collapsed_sections": [],
      "include_colab_link": true
    },
    "kernelspec": {
      "display_name": "Python 3",
      "language": "python",
      "name": "python3"
    },
    "language_info": {
      "codemirror_mode": {
        "name": "ipython",
        "version": 3
      },
      "file_extension": ".py",
      "mimetype": "text/x-python",
      "name": "python",
      "nbconvert_exporter": "python",
      "pygments_lexer": "ipython3",
      "version": "3.7.6"
    }
  },
  "cells": [
    {
      "cell_type": "markdown",
      "metadata": {
        "id": "view-in-github",
        "colab_type": "text"
      },
      "source": [
        "<a href=\"https://colab.research.google.com/github/MSechineli/BCC36B---Compiladores/blob/main/tppcompiler/01-compiladores-analise-lexica-tpplex.ipynb\" target=\"_parent\"><img src=\"https://colab.research.google.com/assets/colab-badge.svg\" alt=\"Open In Colab\"/></a>"
      ]
    },
    {
      "cell_type": "markdown",
      "metadata": {
        "id": "JVjF53sATa07"
      },
      "source": [
        "# Análise Léxica\n",
        "\n",
        "## Preparação do Ambiente\n",
        "\n",
        "*   Instalação do [PLY](https://www.dabeaz.com/ply/ply.html)\n"
      ]
    },
    {
      "cell_type": "code",
      "metadata": {
        "colab": {
          "base_uri": "https://localhost:8080/"
        },
        "id": "tcwj8f6MSt_u",
        "outputId": "72841994-771e-47ae-b6ef-e18d258f4d49"
      },
      "source": [
        "!pip install ply"
      ],
      "execution_count": 1,
      "outputs": [
        {
          "output_type": "stream",
          "name": "stdout",
          "text": [
            "Collecting ply\n",
            "  Downloading ply-3.11-py2.py3-none-any.whl (49 kB)\n",
            "\u001b[?25l\r\u001b[K     |██████▋                         | 10 kB 19.8 MB/s eta 0:00:01\r\u001b[K     |█████████████▏                  | 20 kB 25.7 MB/s eta 0:00:01\r\u001b[K     |███████████████████▉            | 30 kB 18.4 MB/s eta 0:00:01\r\u001b[K     |██████████████████████████▍     | 40 kB 16.4 MB/s eta 0:00:01\r\u001b[K     |████████████████████████████████| 49 kB 3.8 MB/s \n",
            "\u001b[?25hInstalling collected packages: ply\n",
            "Successfully installed ply-3.11\n"
          ]
        }
      ]
    },
    {
      "cell_type": "code",
      "metadata": {
        "colab": {
          "base_uri": "https://localhost:8080/"
        },
        "id": "SBuIbkFfUppX",
        "outputId": "f3bc9ff1-d442-4906-af73-4e13317a26ee"
      },
      "source": [
        "!jupyter nbextension install https://rawgit.com/jfbercher/small_nbextensions/master/highlighter.zip  --user\n",
        "!jupyter nbextension enable highlighter/highlighter"
      ],
      "execution_count": 2,
      "outputs": [
        {
          "output_type": "stream",
          "name": "stdout",
          "text": [
            "Downloading: https://rawgit.com/jfbercher/small_nbextensions/master/highlighter.zip -> /tmp/tmpqu0qmnca/highlighter.zip\n",
            "Extracting: /tmp/tmpqu0qmnca/highlighter.zip -> /root/.local/share/jupyter/nbextensions\n",
            "Enabling notebook extension highlighter/highlighter...\n",
            "Paths used for configuration of notebook: \n",
            "    \t/root/.jupyter/nbconfig/notebook.json\n",
            "      - Validating: \u001b[32mOK\u001b[0m\n",
            "Paths used for configuration of notebook: \n",
            "    \t/root/.jupyter/nbconfig/notebook.json\n"
          ]
        }
      ]
    },
    {
      "cell_type": "code",
      "metadata": {
        "colab": {
          "base_uri": "https://localhost:8080/",
          "height": 17
        },
        "id": "a-s-dVnxdbZW",
        "outputId": "393a4a04-7167-478e-acdf-4f38cdc962e9"
      },
      "source": [
        "%%javascript\n",
        "require(\"base/js/utils\").load_extensions(\"highlighter/highlighter\")"
      ],
      "execution_count": 3,
      "outputs": [
        {
          "output_type": "display_data",
          "data": {
            "text/plain": [
              "<IPython.core.display.Javascript object>"
            ],
            "application/javascript": [
              "require(\"base/js/utils\").load_extensions(\"highlighter/highlighter\")"
            ]
          },
          "metadata": {}
        }
      ]
    },
    {
      "cell_type": "code",
      "metadata": {
        "id": "EGxUtELATG9J"
      },
      "source": [
        "from sys import argv, exit\n",
        "\n",
        "import logging\n",
        "logging.basicConfig(\n",
        "     level = logging.DEBUG,\n",
        "     filename = \"log.txt\",\n",
        "     filemode = \"w\",\n",
        "     format = \"%(filename)10s:%(lineno)4d:%(message)s\"\n",
        ")\n",
        "log = logging.getLogger()\n",
        "\n",
        "import ply.lex as lex\n",
        "from ply.lex import TOKEN"
      ],
      "execution_count": 4,
      "outputs": []
    },
    {
      "cell_type": "code",
      "metadata": {
        "id": "8V2XZckUT6vh",
        "jupyter": {
          "source_hidden": true
        }
      },
      "source": [
        "tokens = [\n",
        "    \"ID\",  # identificador\n",
        "    # numerais\n",
        "    \"NUM_NOTACAO_CIENTIFICA\",  # ponto flutuante em notaçao científica\n",
        "    \"NUM_PONTO_FLUTUANTE\",  # ponto flutuate\n",
        "    \"NUM_INTEIRO\",  # inteiro\n",
        "    # operadores binarios\n",
        "    \"MAIS\",  # +\n",
        "    \"MENOS\",  # -\n",
        "    \"MULTIPLICACAO\",  # *\n",
        "    \"DIVISAO\",  # /\n",
        "    \"E_LOGICO\",  # &&\n",
        "    \"OU_LOGICO\",  # ||\n",
        "    \"DIFERENCA\",  # <>\n",
        "    \"MENOR_IGUAL\",  # <=\n",
        "    \"MAIOR_IGUAL\",  # >=\n",
        "    \"MENOR\",  # <\n",
        "    \"MAIOR\",  # >\n",
        "    \"IGUAL\",  # =\n",
        "    # operadores unarios\n",
        "    \"NEGACAO\",  # !\n",
        "    # simbolos\n",
        "    \"ABRE_PARENTESE\",  # (\n",
        "    \"FECHA_PARENTESE\",  # )\n",
        "    \"ABRE_COLCHETE\",  # [\n",
        "    \"FECHA_COLCHETE\",  # ]\n",
        "    \"VIRGULA\",  # ,\n",
        "    \"DOIS_PONTOS\",  # :\n",
        "    \"ATRIBUICAO\",  # :=\n",
        "    # 'COMENTARIO', # {***}\n",
        "]"
      ],
      "execution_count": 5,
      "outputs": []
    },
    {
      "cell_type": "code",
      "metadata": {
        "id": "fZ5adkC1T_dg"
      },
      "source": [
        "reserved_words = {\n",
        "    \"se\": \"SE\",\n",
        "    \"então\": \"ENTAO\",\n",
        "    \"senão\": \"SENAO\",\n",
        "    \"fim\": \"FIM\",\n",
        "    \"repita\": \"REPITA\",\n",
        "    \"flutuante\": \"FLUTUANTE\",\n",
        "    \"retorna\": \"RETORNA\",\n",
        "    \"até\": \"ATE\",\n",
        "    \"leia\": \"LEIA\",\n",
        "    \"escreva\": \"ESCREVA\",\n",
        "    \"inteiro\": \"INTEIRO\",\n",
        "}\n",
        "\n",
        "tokens = tokens + list(reserved_words.values())"
      ],
      "execution_count": 6,
      "outputs": []
    },
    {
      "cell_type": "code",
      "metadata": {
        "id": "px_JLT-mUEqx"
      },
      "source": [
        "digito = r\"([0-9])\"\n",
        "letra = r\"([a-zA-ZáÁãÃàÀéÉíÍóÓõÕ])\"\n",
        "sinal = r\"([\\-\\+]?)\"\n",
        "\n",
        "\"\"\" \n",
        "    id deve começar com uma letra\n",
        "\"\"\"\n",
        "id = (\n",
        "    r\"(\" + letra + r\"(\" + digito + r\"+|_|\" + letra + r\")*)\"\n",
        ")  # o mesmo que '((letra)(letra|_|([0-9]))*)'\n",
        "\n",
        "# inteiro = r\"(\" + sinal + digito + r\"+)\"\n",
        "# inteiro = r\"(\" + digito + r\"+)\"\n",
        "inteiro = r\"\\d+\"\n",
        "\n",
        "flutuante = (\n",
        "    # r\"(\" + digito + r\"+\\.\" + digito + r\"+?)\"\n",
        "    # (([-\\+]?)([0-9]+)\\.([0-9]+))'\n",
        "    r'\\d+[eE][-+]?\\d+|(\\.\\d+|\\d+\\.\\d*)([eE][-+]?\\d+)?'\n",
        "    # r'[-+]?[0-9]+(\\.([0-9]+)?)'\n",
        "    #r'[+-]?(\\d+(\\.\\d*)?|\\.\\d+)([eE][+-]?\\d+)?'\n",
        "    #r\"(([-\\+]?)([0-9]+)\\.([0-9]+))\"\n",
        "    )\n",
        "\n",
        "notacao_cientifica = (\n",
        "    r\"(\" + sinal + r\"([1-9])\\.\" + digito + r\"+[eE]\" + sinal + digito + r\"+)\"\n",
        ")  # o mesmo que '(([-\\+]?)([1-9])\\.([0-9])+[eE]([-\\+]?)([0-9]+))'"
      ],
      "execution_count": 7,
      "outputs": []
    },
    {
      "cell_type": "code",
      "metadata": {
        "id": "HuIxrFzjUIY8"
      },
      "source": [
        " \n",
        "# Expressões Regulaes para tokens simples.\n",
        "# Símbolos.\n",
        "t_MAIS = r'\\+'\n",
        "t_MENOS = r'-'\n",
        "t_MULTIPLICACAO = r'\\*'\n",
        "t_DIVISAO = r'/'\n",
        "t_ABRE_PARENTESE = r'\\('\n",
        "t_FECHA_PARENTESE = r'\\)'\n",
        "t_ABRE_COLCHETE = r'\\['\n",
        "t_FECHA_COLCHETE = r'\\]'\n",
        "t_VIRGULA = r','\n",
        "t_ATRIBUICAO = r':='\n",
        "t_DOIS_PONTOS = r':'\n",
        "\n",
        "# Operadores Lógicos.\n",
        "t_E_LOGICO = r'&&'\n",
        "t_OU_LOGICO = r'\\|\\|'\n",
        "t_NEGACAO = r'!'\n",
        "\n",
        "# Operadores Relacionais.\n",
        "t_DIFERENCA = r'<>'\n",
        "t_MENOR_IGUAL = r'<='\n",
        "t_MAIOR_IGUAL = r'>='\n",
        "t_MENOR = r'<'\n",
        "t_MAIOR = r'>'\n",
        "t_IGUAL = r'='"
      ],
      "execution_count": 8,
      "outputs": []
    },
    {
      "cell_type": "code",
      "metadata": {
        "id": "y-gnMlvxUL00"
      },
      "source": [
        "@TOKEN(id)\n",
        "def t_ID(token):\n",
        "    token.type = reserved_words.get(\n",
        "        token.value, \"ID\"\n",
        "    )  # não é necessário fazer regras/regex para cada palavra reservada\n",
        "    # se o token não for uma palavra reservada automaticamente é um id\n",
        "    # As palavras reservadas têm precedências sobre os ids\n",
        "\n",
        "    return token\n",
        "\n",
        "@TOKEN(notacao_cientifica)\n",
        "def t_NUM_NOTACAO_CIENTIFICA(token):\n",
        "    return token\n",
        "\n",
        "@TOKEN(flutuante)\n",
        "def t_NUM_PONTO_FLUTUANTE(token):\n",
        "    return token\n",
        "\n",
        "@TOKEN(inteiro)\n",
        "def t_NUM_INTEIRO(token):\n",
        "    return token"
      ],
      "execution_count": 9,
      "outputs": []
    },
    {
      "cell_type": "code",
      "metadata": {
        "id": "UPVsN3naUO0W"
      },
      "source": [
        "t_ignore = \" \\t\"\n",
        "\n",
        "# t_COMENTARIO = r'(\\{((.|\\n)*?)\\})'\n",
        "# para poder contar as quebras de linha dentro dos comentarios\n",
        "def t_COMENTARIO(token):\n",
        "    r\"(\\{((.|\\n)*?)\\})\"\n",
        "    token.lexer.lineno += token.value.count(\"\\n\")\n",
        "    # return token\n",
        "\n",
        "def t_newline(token):\n",
        "    r\"\\n+\"\n",
        "    token.lexer.lineno += len(token.value)\n",
        "\n",
        "def define_column(input, lexpos):\n",
        "    begin_line = input.rfind(\"\\n\", 0, lexpos) + 1\n",
        "    return (lexpos - begin_line) + 1"
      ],
      "execution_count": 10,
      "outputs": []
    },
    {
      "cell_type": "code",
      "metadata": {
        "id": "xC49Ezx-USJ7"
      },
      "source": [
        "def t_error(token):\n",
        "\n",
        "    # file = token.lexer.filename\n",
        "    line = token.lineno\n",
        "    # column = define_column(token.lexer.backup_data, token.lexpos)\n",
        "    message = \"Caracter ilegal '%s'\" % token.value[0]\n",
        "\n",
        "    # print(f\"[{file}]:[{line},{column}]: {message}.\") \n",
        "    print(message)\n",
        "\n",
        "    token.lexer.skip(1)\n",
        "\n",
        "    # token.lexer.has_error = Trueb"
      ],
      "execution_count": 11,
      "outputs": []
    },
    {
      "cell_type": "code",
      "metadata": {
        "id": "q9_fzwX8UWnf"
      },
      "source": [
        "def main():\n",
        "    # argv[1] = 'teste.tpp'\n",
        "    aux = argv[1].split('.')\n",
        "    if aux[-1] != 'tpp':\n",
        "      raise IOError(\"Not a .tpp file!\")\n",
        "    data = open(argv[1])\n",
        "\n",
        "    source_file = data.read()\n",
        "    lexer.input(source_file)\n",
        "\n",
        "    # Tokenize\n",
        "    while True:\n",
        "      tok = lexer.token()\n",
        "      if not tok: \n",
        "        break      # No more input\n",
        "      print(tok)\n",
        "      # print(tok.type)\n",
        "      #print(tok.value)"
      ],
      "execution_count": 12,
      "outputs": []
    },
    {
      "cell_type": "code",
      "metadata": {
        "colab": {
          "base_uri": "https://localhost:8080/",
          "height": 324
        },
        "id": "w7i4m7zoUcpc",
        "outputId": "517f8542-5100-4605-cff5-724e7c8bcbf9"
      },
      "source": [
        "# Build the lexer.\n",
        "__file__ = \"01-compiladores-analise-lexica-tpplex.ipynb\"\n",
        "lexer = lex.lex(optimize=True,debug=True,debuglog=log)\n",
        "\n",
        "if __name__ == \"__main__\":\n",
        "    main()"
      ],
      "execution_count": 13,
      "outputs": [
        {
          "output_type": "error",
          "ename": "OSError",
          "evalue": "ignored",
          "traceback": [
            "\u001b[0;31m---------------------------------------------------------------------------\u001b[0m",
            "\u001b[0;31mOSError\u001b[0m                                   Traceback (most recent call last)",
            "\u001b[0;32m01-compiladores-analise-lexica-tpplex.ipynb\u001b[0m in \u001b[0;36m<module>\u001b[0;34m()\u001b[0m\n\u001b[1;32m      4\u001b[0m \u001b[0;34m\u001b[0m\u001b[0m\n\u001b[1;32m      5\u001b[0m \u001b[0;32mif\u001b[0m \u001b[0m__name__\u001b[0m \u001b[0;34m==\u001b[0m \u001b[0;34m\"__main__\"\u001b[0m\u001b[0;34m:\u001b[0m\u001b[0;34m\u001b[0m\u001b[0;34m\u001b[0m\u001b[0m\n\u001b[0;32m----> 6\u001b[0;31m     \u001b[0mmain\u001b[0m\u001b[0;34m(\u001b[0m\u001b[0;34m)\u001b[0m\u001b[0;34m\u001b[0m\u001b[0;34m\u001b[0m\u001b[0m\n\u001b[0m",
            "\u001b[0;32m01-compiladores-analise-lexica-tpplex.ipynb\u001b[0m in \u001b[0;36mmain\u001b[0;34m()\u001b[0m\n\u001b[1;32m      3\u001b[0m     \u001b[0maux\u001b[0m \u001b[0;34m=\u001b[0m \u001b[0margv\u001b[0m\u001b[0;34m[\u001b[0m\u001b[0;36m1\u001b[0m\u001b[0;34m]\u001b[0m\u001b[0;34m.\u001b[0m\u001b[0msplit\u001b[0m\u001b[0;34m(\u001b[0m\u001b[0;34m'.'\u001b[0m\u001b[0;34m)\u001b[0m\u001b[0;34m\u001b[0m\u001b[0;34m\u001b[0m\u001b[0m\n\u001b[1;32m      4\u001b[0m     \u001b[0;32mif\u001b[0m \u001b[0maux\u001b[0m\u001b[0;34m[\u001b[0m\u001b[0;34m-\u001b[0m\u001b[0;36m1\u001b[0m\u001b[0;34m]\u001b[0m \u001b[0;34m!=\u001b[0m \u001b[0;34m'tpp'\u001b[0m\u001b[0;34m:\u001b[0m\u001b[0;34m\u001b[0m\u001b[0;34m\u001b[0m\u001b[0m\n\u001b[0;32m----> 5\u001b[0;31m       \u001b[0;32mraise\u001b[0m \u001b[0mIOError\u001b[0m\u001b[0;34m(\u001b[0m\u001b[0;34m\"Not a .tpp file!\"\u001b[0m\u001b[0;34m)\u001b[0m\u001b[0;34m\u001b[0m\u001b[0;34m\u001b[0m\u001b[0m\n\u001b[0m\u001b[1;32m      6\u001b[0m     \u001b[0mdata\u001b[0m \u001b[0;34m=\u001b[0m \u001b[0mopen\u001b[0m\u001b[0;34m(\u001b[0m\u001b[0margv\u001b[0m\u001b[0;34m[\u001b[0m\u001b[0;36m1\u001b[0m\u001b[0;34m]\u001b[0m\u001b[0;34m)\u001b[0m\u001b[0;34m\u001b[0m\u001b[0;34m\u001b[0m\u001b[0m\n\u001b[1;32m      7\u001b[0m \u001b[0;34m\u001b[0m\u001b[0m\n",
            "\u001b[0;31mOSError\u001b[0m: Not a .tpp file!"
          ]
        }
      ]
    },
    {
      "cell_type": "code",
      "metadata": {
        "colab": {
          "base_uri": "https://localhost:8080/"
        },
        "id": "TO_H9ZMxoG3M",
        "outputId": "6cd853de-1833-4cad-da9e-796d7af3f3f3"
      },
      "source": [
        "%%writefile teste.tpp\n",
        "\n",
        "inteiro: a[10]\n",
        "flutuante: b\n",
        "\n",
        "inteiro func1(inteiro:x, flutuante:y)\n",
        "  inteiro: res\n",
        "  se (x > y) então\n",
        "    res := x + y\n",
        "  senão\n",
        "    res := x * y\n",
        "  fim\n",
        "  retorna(res)\n",
        "fim\n",
        "\n",
        "func2(inteiro:z, flutuante:w)\n",
        "  a := z\n",
        "  b := w\n",
        "fim\n",
        "\n",
        "inteiro principal()\n",
        "  inteiro: x,y\n",
        "  flutuante: w\n",
        "  a := 10 + 2\n",
        "  leia(x)\n",
        "  leia(w)\n",
        "  w := .6 + 1.\n",
        "  func2(1, 2.5)\n",
        "  b := func1(x,w)\n",
        "  escreva(b)\n",
        "  retorna(0)\n",
        "fim\n"
      ],
      "execution_count": null,
      "outputs": [
        {
          "output_type": "stream",
          "text": [
            "Writing teste.tpp\n"
          ],
          "name": "stdout"
        }
      ]
    },
    {
      "cell_type": "code",
      "metadata": {
        "id": "Bl0VaSl2iTm2",
        "colab": {
          "base_uri": "https://localhost:8080/"
        },
        "outputId": "8a7f288b-3bd1-4630-d813-fab68c3ea5c6"
      },
      "source": [
        "! wget https://raw.githubusercontent.com/rogerioag/tutorial-de-compiladores/master/tppcompiler/tpplex.py"
      ],
      "execution_count": null,
      "outputs": [
        {
          "output_type": "stream",
          "text": [
            "--2021-03-10 20:32:18--  https://raw.githubusercontent.com/rogerioag/tutorial-de-compiladores/master/tppcompiler/tpplex.py\n",
            "Resolving raw.githubusercontent.com (raw.githubusercontent.com)... 185.199.108.133, 185.199.109.133, 185.199.110.133, ...\n",
            "Connecting to raw.githubusercontent.com (raw.githubusercontent.com)|185.199.108.133|:443... connected.\n",
            "HTTP request sent, awaiting response... 200 OK\n",
            "Length: 4628 (4.5K) [text/plain]\n",
            "Saving to: ‘tpplex.py’\n",
            "\n",
            "\rtpplex.py             0%[                    ]       0  --.-KB/s               \rtpplex.py           100%[===================>]   4.52K  --.-KB/s    in 0s      \n",
            "\n",
            "2021-03-10 20:32:18 (55.6 MB/s) - ‘tpplex.py’ saved [4628/4628]\n",
            "\n"
          ],
          "name": "stdout"
        }
      ]
    },
    {
      "cell_type": "code",
      "metadata": {
        "colab": {
          "base_uri": "https://localhost:8080/"
        },
        "id": "y9UN81N7XBz_",
        "outputId": "5d18db2c-dfe4-4735-968e-1766b1b2082c"
      },
      "source": [
        "!python tpplex.py teste.tpp"
      ],
      "execution_count": null,
      "outputs": [
        {
          "output_type": "stream",
          "text": [
            "INTEIRO\n",
            "DOIS_PONTOS\n",
            "ID\n",
            "ABRE_COLCHETE\n",
            "NUM_INTEIRO\n",
            "FECHA_COLCHETE\n",
            "FLUTUANTE\n",
            "DOIS_PONTOS\n",
            "ID\n",
            "INTEIRO\n",
            "ID\n",
            "ABRE_PARENTESE\n",
            "INTEIRO\n",
            "DOIS_PONTOS\n",
            "ID\n",
            "VIRGULA\n",
            "FLUTUANTE\n",
            "DOIS_PONTOS\n",
            "ID\n",
            "FECHA_PARENTESE\n",
            "INTEIRO\n",
            "DOIS_PONTOS\n",
            "ID\n",
            "SE\n",
            "ABRE_PARENTESE\n",
            "ID\n",
            "MAIOR\n",
            "ID\n",
            "FECHA_PARENTESE\n",
            "ENTAO\n",
            "ID\n",
            "ATRIBUICAO\n",
            "ID\n",
            "MAIS\n",
            "ID\n",
            "SENAO\n",
            "ID\n",
            "ATRIBUICAO\n",
            "ID\n",
            "MULTIPLICACAO\n",
            "ID\n",
            "FIM\n",
            "RETORNA\n",
            "ABRE_PARENTESE\n",
            "ID\n",
            "FECHA_PARENTESE\n",
            "FIM\n",
            "ID\n",
            "ABRE_PARENTESE\n",
            "INTEIRO\n",
            "DOIS_PONTOS\n",
            "ID\n",
            "VIRGULA\n",
            "FLUTUANTE\n",
            "DOIS_PONTOS\n",
            "ID\n",
            "FECHA_PARENTESE\n",
            "ID\n",
            "ATRIBUICAO\n",
            "ID\n",
            "ID\n",
            "ATRIBUICAO\n",
            "ID\n",
            "FIM\n",
            "INTEIRO\n",
            "ID\n",
            "ABRE_PARENTESE\n",
            "FECHA_PARENTESE\n",
            "INTEIRO\n",
            "DOIS_PONTOS\n",
            "ID\n",
            "VIRGULA\n",
            "ID\n",
            "FLUTUANTE\n",
            "DOIS_PONTOS\n",
            "ID\n",
            "ID\n",
            "ATRIBUICAO\n",
            "NUM_INTEIRO\n",
            "MAIS\n",
            "NUM_INTEIRO\n",
            "LEIA\n",
            "ABRE_PARENTESE\n",
            "ID\n",
            "FECHA_PARENTESE\n",
            "LEIA\n",
            "ABRE_PARENTESE\n",
            "ID\n",
            "FECHA_PARENTESE\n",
            "ID\n",
            "ATRIBUICAO\n",
            "NUM_PONTO_FLUTUANTE\n",
            "MAIS\n",
            "NUM_PONTO_FLUTUANTE\n",
            "ID\n",
            "ABRE_PARENTESE\n",
            "NUM_INTEIRO\n",
            "VIRGULA\n",
            "NUM_PONTO_FLUTUANTE\n",
            "FECHA_PARENTESE\n",
            "ID\n",
            "ATRIBUICAO\n",
            "ID\n",
            "ABRE_PARENTESE\n",
            "ID\n",
            "VIRGULA\n",
            "ID\n",
            "FECHA_PARENTESE\n",
            "ESCREVA\n",
            "ABRE_PARENTESE\n",
            "ID\n",
            "FECHA_PARENTESE\n",
            "RETORNA\n",
            "ABRE_PARENTESE\n",
            "NUM_INTEIRO\n",
            "FECHA_PARENTESE\n",
            "FIM\n"
          ],
          "name": "stdout"
        }
      ]
    },
    {
      "cell_type": "code",
      "metadata": {
        "id": "MVJwVpGA16DC",
        "outputId": "14056e8d-54e1-485b-96ad-24ee3091eeeb",
        "colab": {
          "base_uri": "https://localhost:8080/"
        }
      },
      "source": [
        "%%writefile teste-003.tpp\n",
        "inteiro principal()\n",
        "  a :=+1\n",
        "  a := a + b\n",
        "  b:= 3 + a\n",
        "  c:= +3\n",
        "fim"
      ],
      "execution_count": null,
      "outputs": [
        {
          "output_type": "stream",
          "text": [
            "Overwriting teste-003.tpp\n"
          ],
          "name": "stdout"
        }
      ]
    },
    {
      "cell_type": "code",
      "metadata": {
        "id": "UEDVvgMp2BhU",
        "outputId": "9544aad0-8b3d-4b9b-d8df-56d229b4c62f",
        "colab": {
          "base_uri": "https://localhost:8080/"
        }
      },
      "source": [
        "!python tpplex.py teste-003.tpp"
      ],
      "execution_count": null,
      "outputs": [
        {
          "output_type": "stream",
          "text": [
            "INTEIRO\n",
            "ID\n",
            "ABRE_PARENTESE\n",
            "FECHA_PARENTESE\n",
            "ID\n",
            "ATRIBUICAO\n",
            "MAIS\n",
            "NUM_INTEIRO\n",
            "ID\n",
            "ATRIBUICAO\n",
            "ID\n",
            "MAIS\n",
            "ID\n",
            "ID\n",
            "ATRIBUICAO\n",
            "NUM_INTEIRO\n",
            "MAIS\n",
            "ID\n",
            "ID\n",
            "ATRIBUICAO\n",
            "MAIS\n",
            "NUM_INTEIRO\n",
            "FIM\n"
          ],
          "name": "stdout"
        }
      ]
    }
  ]
}